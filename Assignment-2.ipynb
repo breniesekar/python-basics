{
 "cells": [
  {
   "cell_type": "markdown",
   "id": "ec444cca",
   "metadata": {},
   "source": [
    "# *Assignment - 2*"
   ]
  },
  {
   "cell_type": "markdown",
   "id": "0ac79ad9",
   "metadata": {},
   "source": [
    "## 1.What are the two values of the Boolean data type? How do you write them?"
   ]
  },
  {
   "cell_type": "markdown",
   "id": "03bb2154",
   "metadata": {},
   "source": [
    "#### Ans: \n",
    "\n",
    "* The two values of Boolean Data types are 'true' and 'false'\n",
    "* In python it is should be wirtten as True and False\n",
    "* For Example\n"
   ]
  },
  {
   "cell_type": "code",
   "execution_count": 1,
   "id": "fdef62e2",
   "metadata": {},
   "outputs": [
    {
     "name": "stdout",
     "output_type": "stream",
     "text": [
      "True False\n"
     ]
    }
   ],
   "source": [
    "a = True\n",
    "b = False\n",
    "print(a,b)"
   ]
  },
  {
   "cell_type": "markdown",
   "id": "190a584a",
   "metadata": {},
   "source": [
    "## 2.What are the three different types of Boolean operators?"
   ]
  },
  {
   "cell_type": "markdown",
   "id": "f03dc5ed",
   "metadata": {},
   "source": [
    "#### Ans:\n",
    "\n",
    "* Three different types of Boolean operators are 'and', 'or' and 'not'\n",
    "* These operators performs logical opeartions\n",
    "* For Example"
   ]
  },
  {
   "cell_type": "code",
   "execution_count": 4,
   "id": "4c102cac",
   "metadata": {},
   "outputs": [
    {
     "name": "stdout",
     "output_type": "stream",
     "text": [
      "and operation : False\n",
      "or operation : True\n",
      "not operation : False\n"
     ]
    }
   ],
   "source": [
    "a,b = True, False\n",
    "\n",
    "print('and operation :', a and b) # True and False = False\n",
    "print('or operation :', a or b)  # True or False = True\n",
    "print('not operation :', not a) # ~True = False"
   ]
  },
  {
   "cell_type": "markdown",
   "id": "995de69a",
   "metadata": {},
   "source": [
    "## 3. Make a list of each Boolean operator's truth tables \n",
    "#### (i.e. every possible combination of Boolean values for the operator and what it evaluate )."
   ]
  },
  {
   "cell_type": "markdown",
   "id": "df068c1c",
   "metadata": {},
   "source": [
    "##### AND Operator"
   ]
  },
  {
   "cell_type": "code",
   "execution_count": 7,
   "id": "329a331b",
   "metadata": {},
   "outputs": [
    {
     "name": "stdout",
     "output_type": "stream",
     "text": [
      "True and True :  True\n",
      "True and False :  False\n",
      "False and True :  False\n",
      "False and False :  False\n"
     ]
    }
   ],
   "source": [
    "#############################\n",
    "# Truth Table - AND Operator#\n",
    "#############################\n",
    "# |  A   |   B   |   Result #\n",
    "#---------------------------#\n",
    "# | True |  True |   True   #\n",
    "# | True | False |  False   #\n",
    "# | False|  True |  False   #\n",
    "# | False| False |  False   #\n",
    "#---------------------------#\n",
    "\n",
    "print(\"True and True : \", True and True)\n",
    "print(\"True and False : \", True and False)\n",
    "print(\"False and True : \", False and True)\n",
    "print(\"False and False : \", False and False)"
   ]
  },
  {
   "cell_type": "markdown",
   "id": "b1f44bf4",
   "metadata": {},
   "source": [
    "##### OR Operator"
   ]
  },
  {
   "cell_type": "code",
   "execution_count": 8,
   "id": "de1f474d",
   "metadata": {},
   "outputs": [
    {
     "name": "stdout",
     "output_type": "stream",
     "text": [
      "True or True :  True\n",
      "True or False :  True\n",
      "False or True :  True\n",
      "False or False :  False\n"
     ]
    }
   ],
   "source": [
    "#############################\n",
    "# Truth Table - OR Operator #\n",
    "#############################\n",
    "# |  A   |   B   |   Result #\n",
    "#---------------------------#\n",
    "# | True |  True |   True   #\n",
    "# | True | False |   True   #\n",
    "# | False|  True |   True   #\n",
    "# | False| False |  False   #\n",
    "#---------------------------#\n",
    "\n",
    "print(\"True or True : \", True or True)\n",
    "print(\"True or False : \", True or False)\n",
    "print(\"False or True : \", False or True)\n",
    "print(\"False or False : \", False or False)"
   ]
  },
  {
   "cell_type": "markdown",
   "id": "930d978f",
   "metadata": {},
   "source": [
    "#### NOT Operator"
   ]
  },
  {
   "cell_type": "code",
   "execution_count": 9,
   "id": "ba8065b9",
   "metadata": {},
   "outputs": [
    {
     "name": "stdout",
     "output_type": "stream",
     "text": [
      "not(True) :  False\n",
      "not(False) :  True\n"
     ]
    }
   ],
   "source": [
    "##############################\n",
    "# Truth Table - NOT Operator #\n",
    "##############################\n",
    "# |     A      |      Result #\n",
    "#----------------------------#\n",
    "# | True       |     False   #\n",
    "# | False      |   True      #\n",
    "#----------------------------#\n",
    "\n",
    "print(\"not(True) : \", not True)\n",
    "print(\"not(False) : \", not False)"
   ]
  },
  {
   "cell_type": "markdown",
   "id": "992159d3",
   "metadata": {},
   "source": [
    "## 4. What are the values of the following expressions?\n",
    "\n",
    "(5 > 4) and (3 == 5)<br>\n",
    "not (5 > 4)<br>\n",
    "(5 > 4) or (3 == 5)<br>\n",
    "not ((5 > 4) or (3 == 5))<br>\n",
    "(True and True) and (True == False)<br>\n",
    "(not False) or (not True)<br>\n"
   ]
  },
  {
   "cell_type": "markdown",
   "id": "3e4302ac",
   "metadata": {},
   "source": [
    "#### Ans:\n",
    "    \n",
    "* (5 > 4) and (3 == 5) <br>\n",
    "   True and False = False <br>\n",
    "* not (5 > 4)<br>\n",
    "   not(True) = False <br>\n",
    "* (5 > 4) or (3 == 5) <br>\n",
    "   True or False = True <br>\n",
    "* not ((5 > 4) or (3 == 5))<br>\n",
    "  not(True or False) = not(True) = False<br>\n",
    "* (True and True) and (True == False)<br>\n",
    "   True and False = False<br>\n",
    "* (not False) or (not True)<br>\n",
    "   True or False = True"
   ]
  },
  {
   "cell_type": "code",
   "execution_count": 20,
   "id": "97ff09a4",
   "metadata": {},
   "outputs": [
    {
     "name": "stdout",
     "output_type": "stream",
     "text": [
      "(5 > 4) and (3 == 5)                 : False\n",
      "not (5 > 4)                          : False\n",
      "(5 > 4) or (3 == 5)                  : True\n",
      "not ((5 > 4) or (3 == 5))            : False\n",
      "(True and True) and (True == False)  : False\n",
      "(not False) or (not True)            : True\n"
     ]
    }
   ],
   "source": [
    "print('(5 > 4) and (3 == 5)                 :',(5 > 4) and (3 == 5))\n",
    "print('not (5 > 4)                          :', not (5 > 4))\n",
    "print('(5 > 4) or (3 == 5)                  :', (5 > 4) or (3 == 5))\n",
    "print('not ((5 > 4) or (3 == 5))            :',not ((5 > 4) or (3 == 5)))\n",
    "print('(True and True) and (True == False)  :', (True and True) and (True == False))\n",
    "print('(not False) or (not True)            :', (not False) or (not True))"
   ]
  },
  {
   "cell_type": "markdown",
   "id": "4f859d99",
   "metadata": {},
   "source": [
    "## 5. What are the six comparison operators?"
   ]
  },
  {
   "cell_type": "markdown",
   "id": "d3243712",
   "metadata": {},
   "source": [
    "There are six comparison operators in python\n",
    "1. Greater than (>)\n",
    "2. Less than (<)\n",
    "3. Greater than or equal to (>=)\n",
    "4. Less than or equal to (<=)\n",
    "5. Equal to (==)\n",
    "6. Not equal to (!=)"
   ]
  },
  {
   "cell_type": "code",
   "execution_count": 21,
   "id": "6753c4f9",
   "metadata": {},
   "outputs": [
    {
     "name": "stdout",
     "output_type": "stream",
     "text": [
      "a>b\n",
      "---\n",
      "a: 3\n",
      "b: 2\n",
      "a is greater\n",
      "\n",
      "\n",
      "a<b\n",
      "---\n",
      "a: 1\n",
      "b: 2\n",
      "a is lesser\n",
      "\n",
      "\n",
      "a>=b\n",
      "----\n",
      "a: 3\n",
      "b: 3\n",
      "a is greater than or equal to b\n",
      "\n",
      "\n",
      "a<=b\n",
      "----\n",
      "a: 2\n",
      "b: 3\n",
      "a is lesser than or equal to b\n",
      "\n",
      "\n",
      "a==b\n",
      "----\n",
      "a: 3\n",
      "b: 3\n",
      "a is equal to b\n",
      "\n",
      "\n",
      "a!=b\n",
      "----\n",
      "a: 3\n",
      "b: 30\n",
      "a is not equal to b\n",
      "\n",
      "\n"
     ]
    }
   ],
   "source": [
    "# 1. Greater than\n",
    "# Example:\n",
    "a=3\n",
    "b=2\n",
    "print(\"a>b\")\n",
    "print(\"---\")\n",
    "print('a:', a)\n",
    "print('b:', b)\n",
    "if a>b:\n",
    "    print('a is greater')\n",
    "else:\n",
    "    print('The statement a>b is False')\n",
    "print('\\n')\n",
    "\n",
    "# 2. Less than (<)\n",
    "a=1\n",
    "b=2\n",
    "print(\"a<b\")\n",
    "print(\"---\")\n",
    "print('a:', a)\n",
    "print('b:', b)\n",
    "if a<b:\n",
    "    print('a is lesser')\n",
    "else:\n",
    "    print('The statement a<b is False')\n",
    "print('\\n')\n",
    "\n",
    "\n",
    "# 3. Greater than or equal to \n",
    "a=3\n",
    "b=3\n",
    "print(\"a>=b\")\n",
    "print(\"----\")\n",
    "print('a:', a)\n",
    "print('b:', b)\n",
    "if a>=b:\n",
    "    print('a is greater than or equal to b')\n",
    "else:\n",
    "    print('The statement a>=b is False')\n",
    "print('\\n')\n",
    "\n",
    "\n",
    "# 4. Less than or equal to \n",
    "a=2\n",
    "b=3\n",
    "print(\"a<=b\")\n",
    "print(\"----\")\n",
    "print('a:', a)\n",
    "print('b:', b)\n",
    "if a<=b:\n",
    "    print('a is lesser than or equal to b')\n",
    "else:\n",
    "    print('The statement a<=b is False')\n",
    "print('\\n')\n",
    "\n",
    "\n",
    "# 5. Equal to (==)\n",
    "a=3\n",
    "b=3\n",
    "print(\"a==b\")\n",
    "print(\"----\")\n",
    "print('a:', a)\n",
    "print('b:', b)\n",
    "if a==b:\n",
    "    print('a is equal to b')\n",
    "else:\n",
    "    print('The statement a==b is False')\n",
    "print('\\n')\n",
    "\n",
    "# 6. Not equal to (!=)\n",
    "a=3\n",
    "b=30\n",
    "print(\"a!=b\")\n",
    "print(\"----\")\n",
    "print('a:', a)\n",
    "print('b:', b)\n",
    "if a!=b:\n",
    "    print('a is not equal to b')\n",
    "else:\n",
    "    print('The statement a!=b is False')\n",
    "print('\\n')"
   ]
  },
  {
   "cell_type": "markdown",
   "id": "b5f6b728",
   "metadata": {},
   "source": [
    "## 6. How do you tell the difference between the equal to and assignment operators? Describe a condition and when you would use one."
   ]
  },
  {
   "cell_type": "markdown",
   "id": "7171f46a",
   "metadata": {},
   "source": [
    "'=' is an assignment operator, '==' is a comparison operator."
   ]
  },
  {
   "cell_type": "code",
   "execution_count": 22,
   "id": "0eecc8c1",
   "metadata": {},
   "outputs": [],
   "source": [
    "# '=' acts as assignment operator\n",
    "\n",
    "a = 5 # assigns\n",
    "a += 5 # add and assigns\n",
    "a -= 5 # subtract and assigns\n",
    "a *= 5 # multiply and assigns\n",
    "a /= 5 # divide and assigns"
   ]
  },
  {
   "cell_type": "code",
   "execution_count": 23,
   "id": "fc449587",
   "metadata": {},
   "outputs": [
    {
     "name": "stdout",
     "output_type": "stream",
     "text": [
      "a: 5\n",
      "b: 5\n",
      "a==b True\n",
      "\n",
      "\n",
      "a: 1\n",
      "b: 5\n",
      "a==b False\n",
      "\n",
      "\n"
     ]
    }
   ],
   "source": [
    "# '==' double equal to acts a comparison operator\n",
    "\n",
    "a=5\n",
    "b=5\n",
    "print('a:', a)\n",
    "print('b:', b)\n",
    "print('a==b', a==b)\n",
    "print('\\n')\n",
    "\n",
    "a=1\n",
    "b=5\n",
    "print('a:', a)\n",
    "print('b:', b)\n",
    "print('a==b', a==b)\n",
    "print('\\n')"
   ]
  },
  {
   "cell_type": "markdown",
   "id": "8239cd2a",
   "metadata": {},
   "source": [
    "## 7. Identify the three blocks in this code:"
   ]
  },
  {
   "cell_type": "code",
   "execution_count": null,
   "id": "129a6238",
   "metadata": {},
   "outputs": [],
   "source": [
    "spam = 0\n",
    "if spam == 10:\n",
    "    print('eggs')\n",
    "    \n",
    "if spam > 5:\n",
    "    print('bacon')\n",
    "else:\n",
    "    print('ham')\n",
    "    print('spam')\n",
    "    print('spam')\n",
    "\n",
    "# Ans : There are three blocks in the code    "
   ]
  },
  {
   "cell_type": "markdown",
   "id": "2ab97b6f",
   "metadata": {},
   "source": [
    "#### Ans:\n"
   ]
  },
  {
   "cell_type": "code",
   "execution_count": null,
   "id": "83b92b40",
   "metadata": {},
   "outputs": [],
   "source": [
    "spam = 0\n",
    "if spam == 10:    # Block 1\n",
    "    print('eggs') # Block 1\n",
    "    \n",
    "if spam > 5:       # Block 2\n",
    "    print('bacon') # Block 2\n",
    "else:              # Block 3\n",
    "    print('ham')   # Block 3\n",
    "    print('spam')  # Block 3\n",
    "    print('spam')  # Block 3"
   ]
  },
  {
   "cell_type": "markdown",
   "id": "1c0dd5b8",
   "metadata": {},
   "source": [
    "## 8. Write code that prints Hello if 1 is stored in spam, prints Howdy if 2 is stored in spam, and prints Greetings! if anything else is stored in spam."
   ]
  },
  {
   "cell_type": "code",
   "execution_count": 1,
   "id": "02f6620b",
   "metadata": {},
   "outputs": [
    {
     "name": "stdout",
     "output_type": "stream",
     "text": [
      "Enter a number: 2\n",
      "Howdy\n"
     ]
    }
   ],
   "source": [
    "spam = input(\"Enter a number: \")\n",
    "if spam == '1':\n",
    "    print(\"Hello\")\n",
    "elif spam == '2':\n",
    "    print(\"Howdy\")\n",
    "else:\n",
    "    print(\"Greetings!\")"
   ]
  },
  {
   "cell_type": "markdown",
   "id": "bafbcadc",
   "metadata": {},
   "source": [
    "## 9. If your programme is stuck in an endless loop, what keys you’ll press?"
   ]
  },
  {
   "cell_type": "code",
   "execution_count": null,
   "id": "aac8ca07",
   "metadata": {},
   "outputs": [],
   "source": [
    "# Example for endless loop\n",
    "\n",
    "while True:\n",
    "    print(\"True\")\n",
    "    \n",
    "# This endless loop can be stopped by \n",
    "# 1. Keyboard Interrupt - Ctrl + C (or) 0 + 0 in command mode in jupyter notebook\n",
    "# 2. Kernel Restart -  Ctrl + .\n"
   ]
  },
  {
   "cell_type": "markdown",
   "id": "055ab576",
   "metadata": {},
   "source": [
    "## 10. How can you tell the difference between break and continue?"
   ]
  },
  {
   "cell_type": "markdown",
   "id": "229da4d7",
   "metadata": {},
   "source": [
    "The main difference between both the statements is that \n",
    "- when break keyword comes, it terminates the execution of the current loop and passes the control over the next loop \n",
    "- when continue keyword is encountered, it skips the current iteration and executes the very next iteration in the loop"
   ]
  },
  {
   "cell_type": "code",
   "execution_count": 8,
   "id": "42144649",
   "metadata": {},
   "outputs": [
    {
     "name": "stdout",
     "output_type": "stream",
     "text": [
      "1 completed\n",
      "2 completed\n",
      "3 completed\n",
      "4 completed\n"
     ]
    }
   ],
   "source": [
    "# Example for break\n",
    "\n",
    "num = 0\n",
    "while num<10:\n",
    "    num = num + 1\n",
    "    if num == 5:   # Loop breaks when num = 5 and will not continue with 6, 7, 8, 9, ......\n",
    "        break\n",
    "    print(num, 'completed')"
   ]
  },
  {
   "cell_type": "code",
   "execution_count": 15,
   "id": "c102167b",
   "metadata": {},
   "outputs": [
    {
     "name": "stdout",
     "output_type": "stream",
     "text": [
      "1 completed\n",
      "2 completed\n",
      "3 completed\n",
      "4 completed\n",
      "6 completed\n",
      "7 completed\n",
      "8 completed\n",
      "9 completed\n",
      "10 completed\n"
     ]
    }
   ],
   "source": [
    "# Example for continue\n",
    "\n",
    "num = 0\n",
    "while num<10:\n",
    "    num = num + 1\n",
    "    if num == 5: # Loop skips when num = 5 and will continue with 6, 7, 8, 9, ......\n",
    "        continue\n",
    "    print(num, 'completed')"
   ]
  },
  {
   "cell_type": "markdown",
   "id": "effe643a",
   "metadata": {},
   "source": [
    "## 11. In a for loop, what is the difference between range(10), range(0, 10), and range(0, 10, 1)?"
   ]
  },
  {
   "cell_type": "markdown",
   "id": "22588913",
   "metadata": {},
   "source": [
    "#####  range(10), range(0, 10), and range(0, 10, 1) performs same in for loop\n",
    "\n",
    "* range(10): \n",
    "     start -> 0 (default)\n",
    "     stop -> 10 \n",
    "     step -> 1 (default)\n",
    "    \n",
    "* range(0,10):\n",
    "     start -> 0 \n",
    "     stop -> 10 \n",
    "     step -> 1 (default)\n",
    "    \n",
    "* range(0,10,1):\n",
    "     start -> 0 \n",
    "     stop -> 10 \n",
    "     step -> 1 "
   ]
  },
  {
   "cell_type": "code",
   "execution_count": null,
   "id": "9af7691c",
   "metadata": {},
   "outputs": [],
   "source": [
    "# |-----------------------------------------#\n",
    "# |   Function      | Start |  Stop | Step  #\n",
    "# |-----------------------------------------#\n",
    "# | range(10)       |   0   |   9   |  1    #\n",
    "# | range(0, 10)    |   0   |   9   |  1    #\n",
    "# | range(0, 10, 1) |   0   |   9   |  1    #\n",
    "# |-----------------------------------------#"
   ]
  },
  {
   "cell_type": "code",
   "execution_count": 9,
   "id": "79736058",
   "metadata": {},
   "outputs": [
    {
     "name": "stdout",
     "output_type": "stream",
     "text": [
      "0\n",
      "1\n",
      "2\n",
      "3\n",
      "4\n",
      "5\n",
      "6\n",
      "7\n",
      "8\n",
      "9\n"
     ]
    }
   ],
   "source": [
    "for i in range(10):\n",
    "    print(i)"
   ]
  },
  {
   "cell_type": "code",
   "execution_count": 10,
   "id": "802ba8e4",
   "metadata": {},
   "outputs": [
    {
     "name": "stdout",
     "output_type": "stream",
     "text": [
      "0\n",
      "1\n",
      "2\n",
      "3\n",
      "4\n",
      "5\n",
      "6\n",
      "7\n",
      "8\n",
      "9\n"
     ]
    }
   ],
   "source": [
    "for i in range(0, 10):\n",
    "    print(i)"
   ]
  },
  {
   "cell_type": "code",
   "execution_count": 11,
   "id": "85c06f9d",
   "metadata": {},
   "outputs": [
    {
     "name": "stdout",
     "output_type": "stream",
     "text": [
      "0\n",
      "1\n",
      "2\n",
      "3\n",
      "4\n",
      "5\n",
      "6\n",
      "7\n",
      "8\n",
      "9\n"
     ]
    }
   ],
   "source": [
    "for i in range(0, 10, 1):\n",
    "    print(i)"
   ]
  },
  {
   "cell_type": "markdown",
   "id": "cd80563b",
   "metadata": {},
   "source": [
    "## 12. Write a short program that prints the numbers 1 to 10 using a for loop. Then write an equivalent program that prints the numbers 1 to 10 using a while loop."
   ]
  },
  {
   "cell_type": "code",
   "execution_count": 14,
   "id": "b5ba3558",
   "metadata": {},
   "outputs": [
    {
     "name": "stdout",
     "output_type": "stream",
     "text": [
      "Using for loop\n",
      "--------------\n",
      "1\n",
      "2\n",
      "3\n",
      "4\n",
      "5\n",
      "6\n",
      "7\n",
      "8\n",
      "9\n",
      "10\n",
      "\n",
      "\n",
      "Using While loop\n",
      "----------------\n",
      "1\n",
      "2\n",
      "3\n",
      "4\n",
      "5\n",
      "6\n",
      "7\n",
      "8\n",
      "9\n",
      "10\n"
     ]
    }
   ],
   "source": [
    "start = 1\n",
    "stop = 10\n",
    "\n",
    "print(\"Using for loop\")\n",
    "print(\"--------------\")\n",
    "for i in range(start, stop+1):\n",
    "    print(i)\n",
    "\n",
    "print('\\n')  \n",
    "print(\"Using While loop\")\n",
    "print(\"----------------\")\n",
    "while start<=stop:\n",
    "    print(start)\n",
    "    start = start+1"
   ]
  },
  {
   "cell_type": "markdown",
   "id": "c4bd96ae",
   "metadata": {},
   "source": [
    "## 13. If you had a function named bacon() inside a module named spam, how would you call it after importing spam?"
   ]
  },
  {
   "cell_type": "code",
   "execution_count": null,
   "id": "8b46cadf",
   "metadata": {},
   "outputs": [],
   "source": [
    "# Method 1:\n",
    "\n",
    "import spam\n",
    "spam.bacon()\n",
    "\n",
    "# Method 2:\n",
    "\n",
    "from spam import bacon"
   ]
  }
 ],
 "metadata": {
  "kernelspec": {
   "display_name": "Python 3 (ipykernel)",
   "language": "python",
   "name": "python3"
  },
  "language_info": {
   "codemirror_mode": {
    "name": "ipython",
    "version": 3
   },
   "file_extension": ".py",
   "mimetype": "text/x-python",
   "name": "python",
   "nbconvert_exporter": "python",
   "pygments_lexer": "ipython3",
   "version": "3.10.9"
  }
 },
 "nbformat": 4,
 "nbformat_minor": 5
}
